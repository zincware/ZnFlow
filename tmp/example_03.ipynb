{
 "cells": [
  {
   "cell_type": "code",
   "execution_count": 1,
   "id": "678eaf6f-a85e-4d2e-b1e4-2be680841be0",
   "metadata": {
    "tags": []
   },
   "outputs": [],
   "source": [
    "import znflow\n",
    "import random\n",
    "import zninit"
   ]
  },
  {
   "cell_type": "code",
   "execution_count": 2,
   "id": "69fee3af-d100-41e0-81c0-95c5e8a40e3d",
   "metadata": {
    "tags": []
   },
   "outputs": [],
   "source": [
    "class ComputeSum(zninit.ZnInit, znflow.Node):\n",
    "    inputs: list = zninit.Descriptor()\n",
    "    outputs: float = zninit.Descriptor(None)\n",
    "\n",
    "    def run(self):\n",
    "        self.outputs = sum(self.inputs)"
   ]
  },
  {
   "cell_type": "code",
   "execution_count": 3,
   "id": "f2a8cbaa-ebd5-4e16-bd98-f164b76f081b",
   "metadata": {
    "tags": []
   },
   "outputs": [],
   "source": [
    "@znflow.nodify\n",
    "def random_number(seed):\n",
    "    random.seed(seed)\n",
    "    print(f\"Get random number with {seed = }\")\n",
    "    return random.random()"
   ]
  },
  {
   "cell_type": "markdown",
   "id": "1163fe03-78cd-4d59-9f7b-0c8222f3ca7f",
   "metadata": {},
   "source": [
    "## Without building a graph"
   ]
  },
  {
   "cell_type": "code",
   "execution_count": 4,
   "id": "3a03c96e-ef7c-47d7-9ca4-76b074c97805",
   "metadata": {
    "tags": []
   },
   "outputs": [
    {
     "name": "stdout",
     "output_type": "stream",
     "text": [
      "Get random number with seed = 5\n",
      "Get random number with seed = 10\n",
      "Get random number with seed = 1.1943042895796154\n",
      "0.2903973544626711\n"
     ]
    }
   ],
   "source": [
    "n1 = random_number(5)\n",
    "n2 = random_number(10)\n",
    "\n",
    "compute_sum = ComputeSum(inputs=[n1, n2])\n",
    "compute_sum.run()\n",
    "n3 = random_number(compute_sum.outputs)\n",
    "print(n3)"
   ]
  },
  {
   "cell_type": "markdown",
   "id": "5ca5b8da-83c3-49ce-a029-9459d0b72e83",
   "metadata": {},
   "source": [
    "## Using a graph"
   ]
  },
  {
   "cell_type": "code",
   "execution_count": 5,
   "id": "a486dc3d-3401-4f7a-988b-4e261a260068",
   "metadata": {
    "tags": []
   },
   "outputs": [],
   "source": [
    "with znflow.DiGraph() as graph:\n",
    "    n1 = random_number(5)\n",
    "    n2 = random_number(10)\n",
    "\n",
    "    compute_sum = ComputeSum(inputs=[n1, n2])\n",
    "\n",
    "    n3 = random_number(compute_sum.outputs)"
   ]
  },
  {
   "cell_type": "code",
   "execution_count": 6,
   "id": "eac0659a-8c6d-4f01-a892-caa300fc1617",
   "metadata": {
    "tags": []
   },
   "outputs": [
    {
     "data": {
      "image/png": "[encoded data removed]",
      "text/plain": [
       "<Figure size 640x480 with 1 Axes>"
      ]
     },
     "metadata": {},
     "output_type": "display_data"
    }
   ],
   "source": [
    "znflow.draw(graph)"
   ]
  },
  {
   "cell_type": "code",
   "execution_count": 7,
   "id": "ed963555-9d93-4240-b735-69ce5260aab1",
   "metadata": {
    "tags": []
   },
   "outputs": [
    {
     "name": "stdout",
     "output_type": "stream",
     "text": [
      "Get random number with seed = 5\n",
      "Get random number with seed = 10\n",
      "Get random number with seed = 1.1943042895796154\n"
     ]
    }
   ],
   "source": [
    "graph.run()"
   ]
  },
  {
   "cell_type": "code",
   "execution_count": 8,
   "id": "83df8cd9-5ba1-47be-944d-f0a95ef93fcb",
   "metadata": {
    "tags": []
   },
   "outputs": [
    {
     "data": {
      "text/plain": [
       "0.2903973544626711"
      ]
     },
     "execution_count": 8,
     "metadata": {},
     "output_type": "execute_result"
    }
   ],
   "source": [
    "n3.result"
   ]
  },
  {
   "cell_type": "code",
   "execution_count": null,
   "id": "17f80e19-a5a7-4d31-a38e-4694bb932c2d",
   "metadata": {},
   "outputs": [],
   "source": []
  }
 ],
 "metadata": {
  "kernelspec": {
   "display_name": "Python 3 (ipykernel)",
   "language": "python",
   "name": "python3"
  },
  "language_info": {
   "codemirror_mode": {
    "name": "ipython",
    "version": 3
   },
   "file_extension": ".py",
   "mimetype": "text/x-python",
   "name": "python",
   "nbconvert_exporter": "python",
   "pygments_lexer": "ipython3",
   "version": "3.10.9"
  }
 },
 "nbformat": 4,
 "nbformat_minor": 5
}
