{
 "cells": [
  {
   "cell_type": "code",
   "execution_count": 1,
   "id": "c60df1ce-3834-4b2c-86bd-2d9ed990dfbb",
   "metadata": {},
   "outputs": [],
   "source": [
    "import znflow"
   ]
  },
  {
   "cell_type": "code",
   "execution_count": 2,
   "id": "8813a822-3589-47a8-95f5-e3daaa56a88d",
   "metadata": {},
   "outputs": [],
   "source": [
    "class Node(znflow.Node):\n",
    "    inputs = znflow.Parameters()\n",
    "    outputs = znflow.Parameters(None)"
   ]
  },
  {
   "cell_type": "code",
   "execution_count": 3,
   "id": "0179cba2-90a5-4c47-a414-d6e60e9ce3a5",
   "metadata": {},
   "outputs": [
    {
     "data": {
      "text/plain": [
       "25"
      ]
     },
     "execution_count": 3,
     "metadata": {},
     "output_type": "execute_result"
    }
   ],
   "source": [
    "Node(inputs=25).inputs"
   ]
  },
  {
   "cell_type": "code",
   "execution_count": 4,
   "id": "373c115d-6f8c-4fc1-a9ec-ce70a1654296",
   "metadata": {},
   "outputs": [
    {
     "name": "stdout",
     "output_type": "stream",
     "text": [
      "DAG([Node(inputs=25, outputs=None), Node(inputs=42, outputs=None)])\n",
      "[(Node(inputs=25, outputs=None), Node(inputs=42, outputs=None), 0)]\n",
      "{0: {'in_attribute': None, 'out_attribute': None}}\n"
     ]
    }
   ],
   "source": [
    "with znflow.DAG() as dag:\n",
    "    node1 = Node(inputs=25)\n",
    "    node2 = Node(inputs=42)\n",
    "    \n",
    "    node1 >> node2\n",
    "\n",
    "print(dag)\n",
    "print(dag.graph.edges)\n",
    "print(dag.graph.get_edge_data(node1, node2))"
   ]
  },
  {
   "cell_type": "code",
   "execution_count": 5,
   "id": "af32b39d-8a23-4d09-a384-19ca6fbc9c2c",
   "metadata": {},
   "outputs": [
    {
     "name": "stdout",
     "output_type": "stream",
     "text": [
      "DAG([Node(inputs=25, outputs=None), Node(inputs=42, outputs=None)])\n",
      "[(Node(inputs=25, outputs=None), Node(inputs=42, outputs=None), 0)]\n",
      "{0: {'in_attribute': 'outputs', 'out_attribute': 'inputs'}}\n"
     ]
    }
   ],
   "source": [
    "with znflow.DAG() as dag:\n",
    "    node1 = Node(inputs=25)\n",
    "    node2 = Node(inputs=42)\n",
    "    \n",
    "    node1.outputs >> node2.inputs\n",
    "\n",
    "print(dag)\n",
    "print(dag.graph.edges)\n",
    "print(dag.graph.get_edge_data(node1, node2))"
   ]
  },
  {
   "cell_type": "code",
   "execution_count": 6,
   "id": "825d4bcd-c28e-4a7b-8a0c-63e2a42bab2f",
   "metadata": {},
   "outputs": [
    {
     "name": "stdout",
     "output_type": "stream",
     "text": [
      "DAG([Node(inputs=25, outputs=None), Node(inputs=42, outputs=None)])\n",
      "[(Node(inputs=25, outputs=None), Node(inputs=42, outputs=None), 0), (Node(inputs=42, outputs=None), Node(inputs=25, outputs=None), 0)]\n",
      "{0: {'in_attribute': 'outputs', 'out_attribute': 'inputs'}}\n",
      "{0: {'in_attribute': 'inputs', 'out_attribute': 'outputs'}}\n"
     ]
    }
   ],
   "source": [
    "with znflow.DAG() as dag:\n",
    "    node1 = Node(inputs=25)\n",
    "    node2 = Node(inputs=42)\n",
    "    \n",
    "    node1.outputs >> node2.inputs >> node1.outputs\n",
    "\n",
    "print(dag)\n",
    "print(dag.graph.edges)\n",
    "print(dag.graph.get_edge_data(node1, node2))\n",
    "print(dag.graph.get_edge_data(node2, node1))"
   ]
  },
  {
   "cell_type": "code",
   "execution_count": 7,
   "id": "e25a3af3-cdb6-4a2c-bf73-5f64d5fee98d",
   "metadata": {},
   "outputs": [
    {
     "name": "stdout",
     "output_type": "stream",
     "text": [
      "DAG([Node(inputs=25, outputs=None), Node(inputs=42, outputs=None)])\n",
      "[(Node(inputs=25, outputs=None), Node(inputs=42, outputs=None), 0), (Node(inputs=25, outputs=None), Node(inputs=42, outputs=None), 1)]\n",
      "{0: {'in_attribute': 'outputs', 'out_attribute': 'inputs'}, 1: {'in_attribute': 'outputs', 'out_attribute': 'inputs'}}\n"
     ]
    }
   ],
   "source": [
    "with znflow.DAG() as dag:\n",
    "    node1 = Node(inputs=25)\n",
    "    node2 = Node(inputs=42)\n",
    "    \n",
    "    node1.outputs >> node2.inputs\n",
    "    \n",
    "    node2.inputs << node1.outputs\n",
    "\n",
    "print(dag)\n",
    "print(dag.graph.edges)\n",
    "print(dag.graph.get_edge_data(node1, node2))"
   ]
  },
  {
   "cell_type": "code",
   "execution_count": 8,
   "id": "ffedb791-2fd1-4412-a93a-2a79362c27f0",
   "metadata": {},
   "outputs": [
    {
     "data": {
      "text/plain": [
       "{0: {'in_attribute': 'outputs', 'out_attribute': 'inputs'},\n",
       " 1: {'in_attribute': 'outputs', 'out_attribute': 'inputs'}}"
      ]
     },
     "execution_count": 8,
     "metadata": {},
     "output_type": "execute_result"
    }
   ],
   "source": [
    "dag.graph.get_edge_data(node1, node2)"
   ]
  },
  {
   "cell_type": "code",
   "execution_count": 9,
   "id": "09cff780-bc4e-470a-9e76-00b94aaac6d3",
   "metadata": {},
   "outputs": [
    {
     "name": "stdout",
     "output_type": "stream",
     "text": [
      "Node(inputs=25, outputs=None)\n",
      "Node(inputs=42, outputs=None)\n"
     ]
    }
   ],
   "source": [
    "for x in dag.graph:\n",
    "    print(x)"
   ]
  },
  {
   "cell_type": "code",
   "execution_count": 10,
   "id": "e2e667c9-717f-4304-ac62-c732d9988bbc",
   "metadata": {},
   "outputs": [
    {
     "data": {
      "text/plain": [
       "OutMultiEdgeView([(Node(inputs=25, outputs=None), Node(inputs=42, outputs=None), 0), (Node(inputs=25, outputs=None), Node(inputs=42, outputs=None), 1)])"
      ]
     },
     "execution_count": 10,
     "metadata": {},
     "output_type": "execute_result"
    }
   ],
   "source": [
    "dag.graph.edges"
   ]
  },
  {
   "cell_type": "code",
   "execution_count": 11,
   "id": "05a4ce47-3730-4f98-989b-94fce87bfc4a",
   "metadata": {},
   "outputs": [],
   "source": [
    "import networkx as nx"
   ]
  },
  {
   "cell_type": "code",
   "execution_count": 12,
   "id": "f8b718c5-2f72-4363-bfe0-59b8bd5eb1ed",
   "metadata": {},
   "outputs": [
    {
     "data": {
      "image/png": "[encoded data removed]",
      "text/plain": [
       "<Figure size 640x480 with 1 Axes>"
      ]
     },
     "metadata": {},
     "output_type": "display_data"
    }
   ],
   "source": [
    "nx.draw_networkx(dag.graph)"
   ]
  },
  {
   "cell_type": "code",
   "execution_count": 21,
   "id": "34931b9a-67d6-4bb3-95c9-7648f121402b",
   "metadata": {},
   "outputs": [],
   "source": [
    "with znflow.DAG() as dag:\n",
    "    # print(Node(inputs=1) >> Node(inputs=2))\n",
    "    start = Node(inputs=1)\n",
    "    start >> Node(inputs=2) >> Node(inputs=3) >> Node(inputs=4) >> Node(inputs=5) >> start"
   ]
  },
  {
   "cell_type": "code",
   "execution_count": 22,
   "id": "441a9db9-5c76-4024-afd5-b64bb591c408",
   "metadata": {},
   "outputs": [
    {
     "data": {
      "image/png": "[encoded data removed]",
      "text/plain": [
       "<Figure size 640x480 with 1 Axes>"
      ]
     },
     "metadata": {},
     "output_type": "display_data"
    }
   ],
   "source": [
    "import matplotlib.pyplot as plt\n",
    "G = dag.graph\n",
    "\n",
    "pos = nx.random_layout(G)\n",
    "nx.draw_networkx_nodes(G, pos, node_color = 'r', node_size = 100, alpha = 1)\n",
    "ax = plt.gca()\n",
    "for e in G.edges:\n",
    "    ax.annotate(\"\",\n",
    "                xy=pos[e[0]], xycoords='data',\n",
    "                xytext=pos[e[1]], textcoords='data',\n",
    "                arrowprops=dict(arrowstyle=\"->\", color=\"0.5\",\n",
    "                                shrinkA=5, shrinkB=5,\n",
    "                                patchA=None, patchB=None,\n",
    "                                connectionstyle=\"arc3,rad=rrr\".replace('rrr',str(0.3*e[2])\n",
    "                                ),\n",
    "                                ),\n",
    "                )\n",
    "plt.axis('off')\n",
    "plt.show()"
   ]
  },
  {
   "cell_type": "code",
   "execution_count": null,
   "id": "893a1c6c-8fd7-4528-915f-6e6eaf493b93",
   "metadata": {},
   "outputs": [],
   "source": []
  }
 ],
 "metadata": {
  "kernelspec": {
   "display_name": "Python 3 (ipykernel)",
   "language": "python",
   "name": "python3"
  },
  "language_info": {
   "codemirror_mode": {
    "name": "ipython",
    "version": 3
   },
   "file_extension": ".py",
   "mimetype": "text/x-python",
   "name": "python",
   "nbconvert_exporter": "python",
   "pygments_lexer": "ipython3",
   "version": "3.9.15"
  }
 },
 "nbformat": 4,
 "nbformat_minor": 5
}
