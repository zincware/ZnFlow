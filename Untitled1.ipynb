{
 "cells": [
  {
   "cell_type": "code",
   "execution_count": 54,
   "id": "54f9e36c-9740-42b7-8023-54ebbb05bae1",
   "metadata": {
    "tags": []
   },
   "outputs": [],
   "source": [
    "def wrap_init(func):\n",
    "    def wrapper(*args, **kwargs):\n",
    "        CheckWrapInit._in_construction = True\n",
    "        value = func(*args, **kwargs)\n",
    "        CheckWrapInit._in_construction = False\n",
    "        return value\n",
    "\n",
    "    return wrapper"
   ]
  },
  {
   "cell_type": "code",
   "execution_count": 58,
   "id": "d32c8a63-12ea-45a9-bf5a-93991cdea1d5",
   "metadata": {
    "tags": []
   },
   "outputs": [],
   "source": [
    "class CheckWrapInit:\n",
    "    _in_construction: bool = False\n",
    "    \n",
    "    @wrap_init\n",
    "    def __init__(self):\n",
    "        assert self._in_construction\n",
    "        \n",
    "        return 42"
   ]
  },
  {
   "cell_type": "code",
   "execution_count": 59,
   "id": "e30a4946-aef0-428d-b899-64b9fd0f5ed3",
   "metadata": {
    "tags": []
   },
   "outputs": [],
   "source": [
    "def test_CheckWrapInit():\n",
    "    with pytest.raises(TypeError):\n",
    "        CheckWrapInit()"
   ]
  },
  {
   "cell_type": "code",
   "execution_count": 60,
   "id": "67930475-4dc7-46b5-8cc8-f5d2d5e1a48a",
   "metadata": {
    "tags": []
   },
   "outputs": [],
   "source": [
    "test_CheckWrapInit()"
   ]
  },
  {
   "cell_type": "code",
   "execution_count": null,
   "id": "a49778e5-4d59-4356-b635-ec95c3f5b69d",
   "metadata": {},
   "outputs": [],
   "source": []
  }
 ],
 "metadata": {
  "kernelspec": {
   "display_name": "Python 3 (ipykernel)",
   "language": "python",
   "name": "python3"
  },
  "language_info": {
   "codemirror_mode": {
    "name": "ipython",
    "version": 3
   },
   "file_extension": ".py",
   "mimetype": "text/x-python",
   "name": "python",
   "nbconvert_exporter": "python",
   "pygments_lexer": "ipython3",
   "version": "3.10.9"
  }
 },
 "nbformat": 4,
 "nbformat_minor": 5
}
